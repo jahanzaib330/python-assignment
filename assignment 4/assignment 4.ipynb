{
 "cells": [
  {
   "cell_type": "code",
   "execution_count": 1,
   "id": "d3e84818",
   "metadata": {},
   "outputs": [
    {
     "name": "stdout",
     "output_type": "stream",
     "text": [
      "Enter your first number: 1\n",
      "Enter your second number: 2\n",
      "1 + 2 = \n",
      "3\n",
      "1 - 2 = \n",
      "-1\n",
      "1 * 2 = \n",
      "2\n",
      "1 / 2 = \n",
      "0.5\n",
      "1**2=\n",
      "1\n"
     ]
    }
   ],
   "source": [
    "#Q1) Make a calculator using Python with addition , subtraction ,multiplication ,division and power.\n",
    "\n",
    "\n",
    "a = int(input('Enter your first number: '))\n",
    "b = int(input('Enter your second number: '))\n",
    "\n",
    "\n",
    "print('{} + {} = '.format(a,b))\n",
    "print(a+b)\n",
    "\n",
    "\n",
    "print('{} - {} = '.format(a,b))\n",
    "print(a-b)\n",
    "\n",
    "\n",
    "print('{} * {} = '.format(a,b))\n",
    "print(a*b)\n",
    "\n",
    "\n",
    "print('{} / {} = '.format(a,b))\n",
    "print(a/b)\n",
    "\n",
    "print('{}**{}='.format(a,b))\n",
    "print(a**b)\n"
   ]
  },
  {
   "cell_type": "code",
   "execution_count": 2,
   "id": "c2e6f1c4",
   "metadata": {},
   "outputs": [
    {
     "name": "stdout",
     "output_type": "stream",
     "text": [
      "Enter Length of List:2\n",
      "Enter the Element:1\n",
      "Enter the Element:3\n",
      "List elements are: [1, 3]\n"
     ]
    }
   ],
   "source": [
    "#Q2) Write a program to check if there is any numeric value in list using for loop\n",
    "\n",
    "a = int(input(\"Enter Length of List:\"));\n",
    "list1 = []\n",
    "for i in range (a):\n",
    "    Element = int(input(\"Enter the Element:\"));\n",
    "    list1.append(Element);\n",
    "print(\"List elements are:\",list1);"
   ]
  },
  {
   "cell_type": "code",
   "execution_count": 3,
   "id": "55c27ce8",
   "metadata": {},
   "outputs": [
    {
     "data": {
      "text/plain": [
       "{1: 'a', 2: 'b', 3: 'c', 5: 'r'}"
      ]
     },
     "execution_count": 3,
     "metadata": {},
     "output_type": "execute_result"
    }
   ],
   "source": [
    "#Q3) Write a Python script to add a key to a dictionary.\n",
    "\n",
    "a = {1: 'a', 2 : 'b', 3 : 'c'}\n",
    "a[5]='r'\n",
    "a"
   ]
  },
  {
   "cell_type": "code",
   "execution_count": 4,
   "id": "0a01bbfc",
   "metadata": {},
   "outputs": [
    {
     "name": "stdout",
     "output_type": "stream",
     "text": [
      "430\n"
     ]
    }
   ],
   "source": [
    "#Q4) Write a Python program to sum all the numeric items in a dictionary.\n",
    "\n",
    "a = {'num1': 100,'num2':200,'num3':100,'num4':30 }\n",
    "print(sum(a.values()))"
   ]
  },
  {
   "cell_type": "code",
   "execution_count": 6,
   "id": "645dc2f3",
   "metadata": {},
   "outputs": [
    {
     "name": "stdout",
     "output_type": "stream",
     "text": [
      "[3, 5, 7]\n"
     ]
    }
   ],
   "source": [
    "#Q5) Write a program to identify duplicate values from list.\n",
    "\n",
    "list1 = [1,3,5,7,9];\n",
    "list2 = [3,4,5,6,7];\n",
    "X = []\n",
    "for i in list1:\n",
    "    for j in list2:\n",
    "        if i == j :\n",
    "            X.append(i);\n",
    "print(X);"
   ]
  },
  {
   "cell_type": "code",
   "execution_count": 7,
   "id": "226788d6",
   "metadata": {},
   "outputs": [
    {
     "name": "stdout",
     "output_type": "stream",
     "text": [
      "Enter The Key To Be Verified junaid\n",
      "Key is present in a dictionary\n",
      "Value: 12\n"
     ]
    }
   ],
   "source": [
    "#Q6) Write a Python script to check if a given key already exists in a dictionary\n",
    "\n",
    "a = {\"jahanzaib\": 56,\"junaid\": 12,\"imran\": 60,\"dawood\": 45};\n",
    "user = input(\"Enter The Key To Be Verified \");\n",
    "if user in a.keys():\n",
    "    print(\"Key is present in a dictionary\");\n",
    "    print(\"Value\" \":\" , a[user]);\n",
    "else:\n",
    "    print(\"Key does not present in a dictionary\");"
   ]
  },
  {
   "cell_type": "code",
   "execution_count": null,
   "id": "49e78fbc",
   "metadata": {},
   "outputs": [],
   "source": []
  }
 ],
 "metadata": {
  "kernelspec": {
   "display_name": "Python 3",
   "language": "python",
   "name": "python3"
  },
  "language_info": {
   "codemirror_mode": {
    "name": "ipython",
    "version": 3
   },
   "file_extension": ".py",
   "mimetype": "text/x-python",
   "name": "python",
   "nbconvert_exporter": "python",
   "pygments_lexer": "ipython3",
   "version": "3.8.8"
  }
 },
 "nbformat": 4,
 "nbformat_minor": 5
}
